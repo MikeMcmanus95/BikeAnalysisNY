{
 "cells": [
  {
   "cell_type": "markdown",
   "metadata": {},
   "source": [
    "# Group Project - Citibike Ridership Analysis\n",
    "\n",
    "Our group decided to analyze the relationship between the amount of Citibike Riders to Miles of Protected Bike Lanes. New York City is added more miles of protected bike lanes each year, which should in theory increase ridership overall. Below are our findings."
   ]
  },
  {
   "cell_type": "code",
   "execution_count": 4,
   "metadata": {},
   "outputs": [
    {
     "data": {
      "text/html": [
       "<div>\n",
       "<style scoped>\n",
       "    .dataframe tbody tr th:only-of-type {\n",
       "        vertical-align: middle;\n",
       "    }\n",
       "\n",
       "    .dataframe tbody tr th {\n",
       "        vertical-align: top;\n",
       "    }\n",
       "\n",
       "    .dataframe thead th {\n",
       "        text-align: right;\n",
       "    }\n",
       "</style>\n",
       "<table border=\"1\" class=\"dataframe\">\n",
       "  <thead>\n",
       "    <tr style=\"text-align: right;\">\n",
       "      <th></th>\n",
       "      <th>Year</th>\n",
       "      <th>CitiBike Ridership in Millions</th>\n",
       "      <th>Percent Change of Riders</th>\n",
       "    </tr>\n",
       "  </thead>\n",
       "  <tbody>\n",
       "    <tr>\n",
       "      <th>0</th>\n",
       "      <td>2013.0</td>\n",
       "      <td>6.400000</td>\n",
       "      <td>0.000000</td>\n",
       "    </tr>\n",
       "    <tr>\n",
       "      <th>1</th>\n",
       "      <td>2014.0</td>\n",
       "      <td>8.000000</td>\n",
       "      <td>25.000000</td>\n",
       "    </tr>\n",
       "    <tr>\n",
       "      <th>2</th>\n",
       "      <td>2015.0</td>\n",
       "      <td>10.400000</td>\n",
       "      <td>30.000000</td>\n",
       "    </tr>\n",
       "    <tr>\n",
       "      <th>3</th>\n",
       "      <td>2016.0</td>\n",
       "      <td>14.600000</td>\n",
       "      <td>40.400000</td>\n",
       "    </tr>\n",
       "    <tr>\n",
       "      <th>4</th>\n",
       "      <td>2017.0</td>\n",
       "      <td>16.400000</td>\n",
       "      <td>12.300000</td>\n",
       "    </tr>\n",
       "    <tr>\n",
       "      <th>5</th>\n",
       "      <td>2018.0</td>\n",
       "      <td>17.593918</td>\n",
       "      <td>7.279988</td>\n",
       "    </tr>\n",
       "  </tbody>\n",
       "</table>\n",
       "</div>"
      ],
      "text/plain": [
       "     Year  CitiBike Ridership in Millions  Percent Change of Riders\n",
       "0  2013.0                        6.400000                  0.000000\n",
       "1  2014.0                        8.000000                 25.000000\n",
       "2  2015.0                       10.400000                 30.000000\n",
       "3  2016.0                       14.600000                 40.400000\n",
       "4  2017.0                       16.400000                 12.300000\n",
       "5  2018.0                       17.593918                  7.279988"
      ]
     },
     "execution_count": 4,
     "metadata": {},
     "output_type": "execute_result"
    }
   ],
   "source": [
    "import pandas as pd \n",
    "import numpy\n",
    "import matplotlib.pyplot as plt\n",
    "import os\n",
    "\n",
    "# The four CSV files containing daily ridership numbers for citi bike in 2018\n",
    "Q1=pd.read_csv('Docs/GroupProject(MichaelMcmanus_DannyDavidov_MikiannMcintosh_AshleyMangar_PatricioPazmino)/CitiDataQ12018.csv', low_memory=False)\n",
    "Q2=pd.read_csv('Docs/GroupProject(MichaelMcmanus_DannyDavidov_MikiannMcintosh_AshleyMangar_PatricioPazmino)/CitiDataQ22018.csv', low_memory=False)\n",
    "Q3=pd.read_csv('Docs/GroupProject(MichaelMcmanus_DannyDavidov_MikiannMcintosh_AshleyMangar_PatricioPazmino)/CitiDataQ32018.csv', low_memory=False)\n",
    "Q4=pd.read_csv('Docs/GroupProject(MichaelMcmanus_DannyDavidov_MikiannMcintosh_AshleyMangar_PatricioPazmino)/CitiDataQ42018.csv', low_memory=False)\n",
    "\n",
    "# The CSV file containing the yearly citibike riders from 2013-2017\n",
    "bikeRidersOne=pd.read_csv('Docs/GroupProject(MichaelMcmanus_DannyDavidov_MikiannMcintosh_AshleyMangar_PatricioPazmino)/BikesharingStats1.csv', low_memory= False)\n",
    "\n",
    "# Merging the four CSV's together into one dataframe called Year.\n",
    "year = pd.concat([Q1,Q2,Q3,Q4])\n",
    "\n",
    "# Calculating the sum of all columns in the Year Dataframe\n",
    "fullSum = year.sum(axis = 0, skipna = True)\n",
    "\n",
    "#Specifing the sum of DailyTrips and assigning it to the TripSum2018 variable\n",
    "tripSum2018 = fullSum.DailyTrips\n",
    "\n",
    "# The CSV file containing the miles of protected bikelanes added from 2010-2018\n",
    "currentMOPB=pd.read_csv('Docs/GroupProject(MichaelMcmanus_DannyDavidov_MikiannMcintosh_AshleyMangar_PatricioPazmino)/MOPB.csv', low_memory=False)\n",
    "\n",
    "# Formatting the sum of Daily Trips to match the format in the BikeRiders Dataframe (17.5)million \n",
    "newSum = tripSum2018/1000000\n",
    "\n",
    "# Formatting the percent change of riders for 2018\n",
    "newPercent = ((newSum - 16.4)/16.4) * 100\n",
    "\n",
    "bikeRidersTwo = bikeRidersOne.append({'Year':2018, 'CitiBike Ridership in Millions':newSum, 'Percent Change of Riders':newPercent}, ignore_index = True)\n",
    "bikeRidersTwo.dropna()\n",
    "\n",
    "#bikeData = pd.DataFrame(bikeRiders2.dropna())\n",
    "\n",
    "#MOPB"
   ]
  },
  {
   "cell_type": "code",
   "execution_count": 5,
   "metadata": {},
   "outputs": [
    {
     "data": {
      "text/html": [
       "<div>\n",
       "<style scoped>\n",
       "    .dataframe tbody tr th:only-of-type {\n",
       "        vertical-align: middle;\n",
       "    }\n",
       "\n",
       "    .dataframe tbody tr th {\n",
       "        vertical-align: top;\n",
       "    }\n",
       "\n",
       "    .dataframe thead th {\n",
       "        text-align: right;\n",
       "    }\n",
       "</style>\n",
       "<table border=\"1\" class=\"dataframe\">\n",
       "  <thead>\n",
       "    <tr style=\"text-align: right;\">\n",
       "      <th></th>\n",
       "      <th>Year</th>\n",
       "      <th>CitiBike Ridership in Millions</th>\n",
       "      <th>Percent Change of Riders</th>\n",
       "      <th>Miles of Protected Bike Lane</th>\n",
       "      <th>Percent Change of Miles</th>\n",
       "    </tr>\n",
       "  </thead>\n",
       "  <tbody>\n",
       "    <tr>\n",
       "      <th>0</th>\n",
       "      <td>2013.0</td>\n",
       "      <td>6.400000</td>\n",
       "      <td>0.000000</td>\n",
       "      <td>36.4</td>\n",
       "      <td>14.84</td>\n",
       "    </tr>\n",
       "    <tr>\n",
       "      <th>1</th>\n",
       "      <td>2014.0</td>\n",
       "      <td>8.000000</td>\n",
       "      <td>25.000000</td>\n",
       "      <td>41.8</td>\n",
       "      <td>29.67</td>\n",
       "    </tr>\n",
       "    <tr>\n",
       "      <th>2</th>\n",
       "      <td>2015.0</td>\n",
       "      <td>10.400000</td>\n",
       "      <td>30.000000</td>\n",
       "      <td>54.2</td>\n",
       "      <td>34.13</td>\n",
       "    </tr>\n",
       "    <tr>\n",
       "      <th>3</th>\n",
       "      <td>2016.0</td>\n",
       "      <td>14.600000</td>\n",
       "      <td>40.400000</td>\n",
       "      <td>72.7</td>\n",
       "      <td>34.25</td>\n",
       "    </tr>\n",
       "    <tr>\n",
       "      <th>4</th>\n",
       "      <td>2017.0</td>\n",
       "      <td>16.400000</td>\n",
       "      <td>12.300000</td>\n",
       "      <td>97.6</td>\n",
       "      <td>20.49</td>\n",
       "    </tr>\n",
       "    <tr>\n",
       "      <th>5</th>\n",
       "      <td>2018.0</td>\n",
       "      <td>17.593918</td>\n",
       "      <td>7.279988</td>\n",
       "      <td>117.6</td>\n",
       "      <td>85.03</td>\n",
       "    </tr>\n",
       "  </tbody>\n",
       "</table>\n",
       "</div>"
      ],
      "text/plain": [
       "     Year  CitiBike Ridership in Millions  Percent Change of Riders  \\\n",
       "0  2013.0                        6.400000                  0.000000   \n",
       "1  2014.0                        8.000000                 25.000000   \n",
       "2  2015.0                       10.400000                 30.000000   \n",
       "3  2016.0                       14.600000                 40.400000   \n",
       "4  2017.0                       16.400000                 12.300000   \n",
       "5  2018.0                       17.593918                  7.279988   \n",
       "\n",
       "   Miles of Protected Bike Lane  Percent Change of Miles  \n",
       "0                          36.4                    14.84  \n",
       "1                          41.8                    29.67  \n",
       "2                          54.2                    34.13  \n",
       "3                          72.7                    34.25  \n",
       "4                          97.6                    20.49  \n",
       "5                         117.6                    85.03  "
      ]
     },
     "execution_count": 5,
     "metadata": {},
     "output_type": "execute_result"
    }
   ],
   "source": [
    "#Creating the merged dataframe based on Year\n",
    "import pandas as pd \n",
    "\n",
    "currentTrend = pd.merge(bikeRidersTwo, currentMOPB, on=\"Year\")\n",
    "currentTrend"
   ]
  },
  {
   "cell_type": "markdown",
   "metadata": {},
   "source": [
    "## Dataframe 1\n",
    "Above we merged our two dataframes which showed the percent changes in riders and percent changes in miles of protected bike lanes. This is the current data that was retrived from CitiBikes website and cleaned up by us."
   ]
  },
  {
   "cell_type": "code",
   "execution_count": 50,
   "metadata": {},
   "outputs": [
    {
     "data": {
      "text/plain": [
       "<matplotlib.axes._subplots.AxesSubplot at 0x2724d628978>"
      ]
     },
     "execution_count": 50,
     "metadata": {},
     "output_type": "execute_result"
    },
    {
     "data": {
      "image/png": "[encoded data removed]",
      "text/plain": [
       "<Figure size 432x288 with 1 Axes>"
      ]
     },
     "metadata": {},
     "output_type": "display_data"
    }
   ],
   "source": [
    "#First graph depicting the percent change over years in adding new miles of Protected Bike Lane\n",
    "import seaborn as sns\n",
    "\n",
    "sns.set(style=\"darkgrid\")\n",
    "sns.regplot(x=\"Year\", y=\"Miles of Protected Bike Lane\", data = currentTrend)"
   ]
  },
  {
   "cell_type": "code",
   "execution_count": 51,
   "metadata": {},
   "outputs": [
    {
     "data": {
      "text/plain": [
       "<matplotlib.axes._subplots.AxesSubplot at 0x2724d644630>"
      ]
     },
     "execution_count": 51,
     "metadata": {},
     "output_type": "execute_result"
    },
    {
     "data": {
      "image/png": "[encoded data removed]",
      "text/plain": [
       "<Figure size 432x288 with 1 Axes>"
      ]
     },
     "metadata": {},
     "output_type": "display_data"
    }
   ],
   "source": [
    "#Second graph depicting the increase in ridership over years for CitiBike \n",
    "import seaborn as sns\n",
    "\n",
    "sns.set(style=\"darkgrid\")\n",
    "sns.regplot(x=\"Year\", y=\"CitiBike Ridership in Millions\", data = currentTrend)"
   ]
  },
  {
   "cell_type": "code",
   "execution_count": 160,
   "metadata": {},
   "outputs": [
    {
     "data": {
      "text/plain": [
       "<seaborn.axisgrid.PairGrid at 0x2724f004128>"
      ]
     },
     "execution_count": 160,
     "metadata": {},
     "output_type": "execute_result"
    },
    {
     "data": {
      "image/png": "[encoded data removed]",
      "text/plain": [
       "<Figure size 360x360 with 2 Axes>"
      ]
     },
     "metadata": {},
     "output_type": "display_data"
    }
   ],
   "source": [
    "#Third graph depicting the trend and correlation between bike ridership and added miles of protected bike lane\n",
    "import seaborn as sns\n",
    "\n",
    "sns.set(style=\"darkgrid\")\n",
    "#sns.lmeplot(x=\"Percent Change of Miles\", y=\"Percent Change of Riders\", hue = \"Year\", legend=\"full\", data=currentTrend);\n",
    "sns.pairplot(x_vars = \"Year\", y_vars = ('Percent Change of Miles', 'Percent Change of Riders'), kind = \"reg\", aspect = 2,\n",
    "             palette=\"husl\", data = currentTrend)"
   ]
  },
  {
   "cell_type": "code",
   "execution_count": 178,
   "metadata": {},
   "outputs": [
    {
     "data": {
      "text/html": [
       "<div>\n",
       "<style scoped>\n",
       "    .dataframe tbody tr th:only-of-type {\n",
       "        vertical-align: middle;\n",
       "    }\n",
       "\n",
       "    .dataframe tbody tr th {\n",
       "        vertical-align: top;\n",
       "    }\n",
       "\n",
       "    .dataframe thead th {\n",
       "        text-align: right;\n",
       "    }\n",
       "</style>\n",
       "<table border=\"1\" class=\"dataframe\">\n",
       "  <thead>\n",
       "    <tr style=\"text-align: right;\">\n",
       "      <th></th>\n",
       "      <th>CitiBike Ridership in Millions</th>\n",
       "      <th>Miles of Protected Bike Lane</th>\n",
       "      <th>Percent Change of Miles</th>\n",
       "      <th>Percent Change of Riders</th>\n",
       "      <th>Year</th>\n",
       "    </tr>\n",
       "  </thead>\n",
       "  <tbody>\n",
       "    <tr>\n",
       "      <th>0</th>\n",
       "      <td>6.400000</td>\n",
       "      <td>36.4</td>\n",
       "      <td>14.84</td>\n",
       "      <td>0.000000</td>\n",
       "      <td>2013.0</td>\n",
       "    </tr>\n",
       "    <tr>\n",
       "      <th>1</th>\n",
       "      <td>8.000000</td>\n",
       "      <td>41.8</td>\n",
       "      <td>29.67</td>\n",
       "      <td>25.000000</td>\n",
       "      <td>2014.0</td>\n",
       "    </tr>\n",
       "    <tr>\n",
       "      <th>2</th>\n",
       "      <td>10.400000</td>\n",
       "      <td>54.2</td>\n",
       "      <td>34.13</td>\n",
       "      <td>30.000000</td>\n",
       "      <td>2015.0</td>\n",
       "    </tr>\n",
       "    <tr>\n",
       "      <th>3</th>\n",
       "      <td>14.600000</td>\n",
       "      <td>72.7</td>\n",
       "      <td>34.25</td>\n",
       "      <td>40.400000</td>\n",
       "      <td>2016.0</td>\n",
       "    </tr>\n",
       "    <tr>\n",
       "      <th>4</th>\n",
       "      <td>16.400000</td>\n",
       "      <td>97.6</td>\n",
       "      <td>20.49</td>\n",
       "      <td>12.300000</td>\n",
       "      <td>2017.0</td>\n",
       "    </tr>\n",
       "    <tr>\n",
       "      <th>5</th>\n",
       "      <td>17.593918</td>\n",
       "      <td>117.6</td>\n",
       "      <td>85.03</td>\n",
       "      <td>7.279988</td>\n",
       "      <td>2018.0</td>\n",
       "    </tr>\n",
       "    <tr>\n",
       "      <th>6</th>\n",
       "      <td>20.800000</td>\n",
       "      <td>217.6</td>\n",
       "      <td>45.96</td>\n",
       "      <td>18.100000</td>\n",
       "      <td>2019.0</td>\n",
       "    </tr>\n",
       "    <tr>\n",
       "      <th>7</th>\n",
       "      <td>23.200000</td>\n",
       "      <td>317.6</td>\n",
       "      <td>31.49</td>\n",
       "      <td>11.700000</td>\n",
       "      <td>2020.0</td>\n",
       "    </tr>\n",
       "    <tr>\n",
       "      <th>8</th>\n",
       "      <td>25.600000</td>\n",
       "      <td>417.6</td>\n",
       "      <td>23.95</td>\n",
       "      <td>10.500000</td>\n",
       "      <td>2021.0</td>\n",
       "    </tr>\n",
       "    <tr>\n",
       "      <th>9</th>\n",
       "      <td>28.100000</td>\n",
       "      <td>517.6</td>\n",
       "      <td>19.32</td>\n",
       "      <td>9.500000</td>\n",
       "      <td>2022.0</td>\n",
       "    </tr>\n",
       "    <tr>\n",
       "      <th>10</th>\n",
       "      <td>30.500000</td>\n",
       "      <td>617.6</td>\n",
       "      <td>16.19</td>\n",
       "      <td>8.700000</td>\n",
       "      <td>2023.0</td>\n",
       "    </tr>\n",
       "    <tr>\n",
       "      <th>11</th>\n",
       "      <td>33.000000</td>\n",
       "      <td>717.6</td>\n",
       "      <td>13.94</td>\n",
       "      <td>8.000000</td>\n",
       "      <td>2024.0</td>\n",
       "    </tr>\n",
       "    <tr>\n",
       "      <th>12</th>\n",
       "      <td>35.400000</td>\n",
       "      <td>817.6</td>\n",
       "      <td>12.23</td>\n",
       "      <td>7.400000</td>\n",
       "      <td>2025.0</td>\n",
       "    </tr>\n",
       "    <tr>\n",
       "      <th>13</th>\n",
       "      <td>37.800000</td>\n",
       "      <td>917.6</td>\n",
       "      <td>NaN</td>\n",
       "      <td>6.900000</td>\n",
       "      <td>2026.0</td>\n",
       "    </tr>\n",
       "  </tbody>\n",
       "</table>\n",
       "</div>"
      ],
      "text/plain": [
       "    CitiBike Ridership in Millions  Miles of Protected Bike Lane  \\\n",
       "0                         6.400000                          36.4   \n",
       "1                         8.000000                          41.8   \n",
       "2                        10.400000                          54.2   \n",
       "3                        14.600000                          72.7   \n",
       "4                        16.400000                          97.6   \n",
       "5                        17.593918                         117.6   \n",
       "6                        20.800000                         217.6   \n",
       "7                        23.200000                         317.6   \n",
       "8                        25.600000                         417.6   \n",
       "9                        28.100000                         517.6   \n",
       "10                       30.500000                         617.6   \n",
       "11                       33.000000                         717.6   \n",
       "12                       35.400000                         817.6   \n",
       "13                       37.800000                         917.6   \n",
       "\n",
       "    Percent Change of Miles  Percent Change of Riders    Year  \n",
       "0                     14.84                  0.000000  2013.0  \n",
       "1                     29.67                 25.000000  2014.0  \n",
       "2                     34.13                 30.000000  2015.0  \n",
       "3                     34.25                 40.400000  2016.0  \n",
       "4                     20.49                 12.300000  2017.0  \n",
       "5                     85.03                  7.279988  2018.0  \n",
       "6                     45.96                 18.100000  2019.0  \n",
       "7                     31.49                 11.700000  2020.0  \n",
       "8                     23.95                 10.500000  2021.0  \n",
       "9                     19.32                  9.500000  2022.0  \n",
       "10                    16.19                  8.700000  2023.0  \n",
       "11                    13.94                  8.000000  2024.0  \n",
       "12                    12.23                  7.400000  2025.0  \n",
       "13                      NaN                  6.900000  2026.0  "
      ]
     },
     "execution_count": 178,
     "metadata": {},
     "output_type": "execute_result"
    }
   ],
   "source": [
    "#Creating the data frame for future trend analysis\n",
    "import pandas as pd \n",
    "import numpy\n",
    "import matplotlib.pyplot as plt\n",
    "import os\n",
    "\n",
    "#Reading in the csv containing future protected bike lane miles added\n",
    "futureMOPB = pd.read_csv('MOPB2.csv', low_memory=False)\n",
    "\n",
    "#Reading in the csv containing future trends created in excel\n",
    "futureBikeTrend = pd.read_csv('BikesharingStats2.csv', low_memory = False)\n",
    "\n",
    "#Adds on the futureMOPB to the currentTrend dataframe for analysis of future trends\n",
    "futureTrend = pd.merge(futureMOPB,futureBikeTrend, on=\"Year\")\n",
    "#futureTrend.fillna(0)\n",
    "\n",
    "fullTrend = currentTrend.append(futureTrend, ignore_index=True, sort= True)\n",
    "fullTrend\n"
   ]
  },
  {
   "cell_type": "code",
   "execution_count": 179,
   "metadata": {},
   "outputs": [
    {
     "data": {
      "text/plain": [
       "<seaborn.axisgrid.PairGrid at 0x2724f359f98>"
      ]
     },
     "execution_count": 179,
     "metadata": {},
     "output_type": "execute_result"
    },
    {
     "data": {
      "image/png": "[encoded data removed]",
      "text/plain": [
       "<Figure size 360x360 with 2 Axes>"
      ]
     },
     "metadata": {},
     "output_type": "display_data"
    }
   ],
   "source": [
    "#Fourth graph depicting future trends when factoring in additional miles added until 2026\n",
    "import seaborn as sns\n",
    "\n",
    "sns.set(style=\"darkgrid\")\n",
    "sns.pairplot(x_vars = \"Year\", y_vars = ('Percent Change of Miles', 'Percent Change of Riders'), kind = \"reg\", aspect = 2,\n",
    "             palette=\"husl\", data = fullTrend)"
   ]
  },
  {
   "cell_type": "markdown",
   "metadata": {
    "collapsed": true
   },
   "source": [
    "Judging by the findings in the two graphs above, we see that after a certain point the increase in CitiBike ridership begins to level off, and eventually decrease. This demonstrates that there is an inflection point at which adding more protected bike lanes does NOT increase the number of riders."
   ]
  }
 ],
 "metadata": {
  "kernelspec": {
   "display_name": "Python 3",
   "language": "python",
   "name": "python3"
  },
  "language_info": {
   "codemirror_mode": {
    "name": "ipython",
    "version": 3
   },
   "file_extension": ".py",
   "mimetype": "text/x-python",
   "name": "python",
   "nbconvert_exporter": "python",
   "pygments_lexer": "ipython3",
   "version": "3.7.3"
  }
 },
 "nbformat": 4,
 "nbformat_minor": 2
}
